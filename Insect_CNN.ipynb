{
 "cells": [
  {
   "cell_type": "markdown",
   "metadata": {
    "id": "3DR-eO17geWu"
   },
   "source": [
    "# Convolutional Neural Network"
   ]
  },
  {
   "cell_type": "markdown",
   "metadata": {
    "id": "EMefrVPCg-60"
   },
   "source": [
    "### Importing the libraries"
   ]
  },
  {
   "cell_type": "code",
   "execution_count": 117,
   "metadata": {
    "id": "sCV30xyVhFbE"
   },
   "outputs": [],
   "source": [
    "import tensorflow as tf\n",
    "from tensorflow.keras.preprocessing.image import ImageDataGenerator\n",
    "import numpy as np\n",
    "import matplotlib.pyplot as plt\n",
    "from tensorflow.keras.preprocessing import image\n",
    "import os\n",
    "import random"
   ]
  },
  {
   "cell_type": "code",
   "execution_count": 2,
   "metadata": {
    "id": "FIleuCAjoFD8"
   },
   "outputs": [
    {
     "data": {
      "text/plain": [
       "'2.10.0'"
      ]
     },
     "execution_count": 2,
     "metadata": {},
     "output_type": "execute_result"
    }
   ],
   "source": [
    "tf.__version__"
   ]
  },
  {
   "cell_type": "markdown",
   "metadata": {
    "id": "oxQxCBWyoGPE"
   },
   "source": [
    "## Part 1 - Data Preprocessing"
   ]
  },
  {
   "cell_type": "markdown",
   "metadata": {
    "id": "MvE-heJNo3GG"
   },
   "source": [
    "### Preprocessing the Training set"
   ]
  },
  {
   "cell_type": "code",
   "execution_count": 118,
   "metadata": {
    "id": "0koUcJMJpEBD"
   },
   "outputs": [
    {
     "name": "stdout",
     "output_type": "stream",
     "text": [
      "Found 1599 images belonging to 4 classes.\n"
     ]
    }
   ],
   "source": [
    "train_datagen = ImageDataGenerator(rescale = 1./255,\n",
    "                                   shear_range = 0.2,\n",
    "                                   zoom_range = 0.2,\n",
    "                                   horizontal_flip = True)\n",
    "training_set = train_datagen.flow_from_directory('dataset/training_set',\n",
    "                                                 target_size = (64, 64),\n",
    "                                                 batch_size = 32,\n",
    "                                                 class_mode = 'categorical')"
   ]
  },
  {
   "cell_type": "markdown",
   "metadata": {
    "id": "mrCMmGw9pHys"
   },
   "source": [
    "### Preprocessing the Test set"
   ]
  },
  {
   "cell_type": "code",
   "execution_count": 119,
   "metadata": {
    "id": "SH4WzfOhpKc3"
   },
   "outputs": [
    {
     "name": "stdout",
     "output_type": "stream",
     "text": [
      "Found 400 images belonging to 4 classes.\n"
     ]
    }
   ],
   "source": [
    "test_datagen = ImageDataGenerator(rescale = 1./255)\n",
    "test_set = test_datagen.flow_from_directory('dataset/test_set',\n",
    "                                            target_size = (64, 64),\n",
    "                                            batch_size = 32,\n",
    "                                            class_mode = 'categorical')"
   ]
  },
  {
   "cell_type": "code",
   "execution_count": 4,
   "metadata": {
    "collapsed": true,
    "jupyter": {
     "outputs_hidden": true
    }
   },
   "outputs": [
    {
     "data": {
      "text/plain": [
       "(array([[[[1.1764707e-02, 1.1764707e-02, 1.1764707e-02],\n",
       "          [1.1764707e-02, 1.1764707e-02, 1.1764707e-02],\n",
       "          [1.1764707e-02, 1.1764707e-02, 1.1764707e-02],\n",
       "          ...,\n",
       "          [3.3848662e-02, 1.9607844e-02, 1.8369788e-02],\n",
       "          [3.3848662e-02, 1.9607844e-02, 1.8369788e-02],\n",
       "          [3.3848662e-02, 1.9607844e-02, 1.8369788e-02]],\n",
       " \n",
       "         [[1.1764707e-02, 1.1764707e-02, 1.1764707e-02],\n",
       "          [1.1764707e-02, 1.1764707e-02, 1.1764707e-02],\n",
       "          [1.1764707e-02, 1.1764707e-02, 1.1764707e-02],\n",
       "          ...,\n",
       "          [4.6966448e-02, 1.9607844e-02, 1.1810896e-02],\n",
       "          [4.6966448e-02, 1.9607844e-02, 1.1810896e-02],\n",
       "          [4.6966448e-02, 1.9607844e-02, 1.1810896e-02]],\n",
       " \n",
       "         [[1.1764707e-02, 1.1764707e-02, 1.1764707e-02],\n",
       "          [1.1764707e-02, 1.1764707e-02, 1.1764707e-02],\n",
       "          [1.1764707e-02, 1.1764707e-02, 1.1764707e-02],\n",
       "          ...,\n",
       "          [4.0546123e-02, 2.2864195e-02, 1.8277409e-02],\n",
       "          [4.0546123e-02, 2.2864195e-02, 1.8277409e-02],\n",
       "          [4.0546123e-02, 2.2864195e-02, 1.8277409e-02]],\n",
       " \n",
       "         ...,\n",
       " \n",
       "         [[5.5294120e-01, 5.5294120e-01, 5.8431375e-01],\n",
       "          [5.5294120e-01, 5.5294120e-01, 5.8431375e-01],\n",
       "          [5.5294120e-01, 5.5294120e-01, 5.8431375e-01],\n",
       "          ...,\n",
       "          [2.7517503e-01, 2.5098041e-01, 2.5882354e-01],\n",
       "          [2.7517503e-01, 2.5098041e-01, 2.5882354e-01],\n",
       "          [2.7517503e-01, 2.5098041e-01, 2.5882354e-01]],\n",
       " \n",
       "         [[5.5294120e-01, 5.5294120e-01, 5.8431375e-01],\n",
       "          [5.5294120e-01, 5.5294120e-01, 5.8431375e-01],\n",
       "          [5.5294120e-01, 5.5294120e-01, 5.8431375e-01],\n",
       "          ...,\n",
       "          [2.7843139e-01, 2.5100350e-01, 2.5884664e-01],\n",
       "          [2.7843139e-01, 2.5100350e-01, 2.5884664e-01],\n",
       "          [2.7843139e-01, 2.5100350e-01, 2.5884664e-01]],\n",
       " \n",
       "         [[5.5294120e-01, 5.5294120e-01, 5.8431375e-01],\n",
       "          [5.5294120e-01, 5.5294120e-01, 5.8431375e-01],\n",
       "          [5.5294120e-01, 5.5294120e-01, 5.8431375e-01],\n",
       "          ...,\n",
       "          [2.7843139e-01, 2.5428295e-01, 2.6212609e-01],\n",
       "          [2.7843139e-01, 2.5428295e-01, 2.6212609e-01],\n",
       "          [2.7843139e-01, 2.5428295e-01, 2.6212609e-01]]],\n",
       " \n",
       " \n",
       "        [[[7.5010759e-01, 7.6579386e-01, 7.6187229e-01],\n",
       "          [7.7902603e-01, 7.9471231e-01, 7.9079074e-01],\n",
       "          [7.8810787e-01, 8.0379415e-01, 7.9987258e-01],\n",
       "          ...,\n",
       "          [5.1110464e-01, 3.7555942e-01, 2.5248379e-01],\n",
       "          [6.1109418e-01, 4.7485432e-01, 3.4901440e-01],\n",
       "          [6.2520397e-01, 4.7457153e-01, 3.4122494e-01]],\n",
       " \n",
       "         [[7.9312873e-01, 8.0881500e-01, 8.0489343e-01],\n",
       "          [7.8802103e-01, 8.0370730e-01, 7.9978573e-01],\n",
       "          [7.7742505e-01, 7.9311132e-01, 7.8918976e-01],\n",
       "          ...,\n",
       "          [3.3537263e-01, 2.2902101e-01, 9.9963941e-02],\n",
       "          [4.6212408e-01, 3.4479642e-01, 2.1400151e-01],\n",
       "          [5.7491881e-01, 4.3663037e-01, 2.9823574e-01]],\n",
       " \n",
       "         [[8.0270487e-01, 8.1839114e-01, 8.1446958e-01],\n",
       "          [7.7006483e-01, 7.8575110e-01, 7.8182954e-01],\n",
       "          [7.8538334e-01, 8.0106962e-01, 7.9714805e-01],\n",
       "          ...,\n",
       "          [3.3456022e-01, 2.1186033e-01, 9.0238504e-02],\n",
       "          [6.0107416e-01, 4.9207389e-01, 3.5991466e-01],\n",
       "          [6.4805073e-01, 5.2723688e-01, 3.8404471e-01]],\n",
       " \n",
       "         ...,\n",
       " \n",
       "         [[6.5862173e-01, 5.6920010e-01, 4.8871142e-01],\n",
       "          [6.6255176e-01, 5.7562375e-01, 4.8444745e-01],\n",
       "          [6.5369421e-01, 5.6334770e-01, 4.7356197e-01],\n",
       "          ...,\n",
       "          [6.8771523e-01, 5.6875706e-01, 4.7432518e-01],\n",
       "          [6.7150056e-01, 5.5365539e-01, 4.4728878e-01],\n",
       "          [6.5888798e-01, 5.4216826e-01, 4.3390313e-01]],\n",
       " \n",
       "         [[6.4575499e-01, 5.4626584e-01, 4.5591858e-01],\n",
       "          [6.4428163e-01, 5.5081773e-01, 4.4983754e-01],\n",
       "          [6.6684014e-01, 5.7049239e-01, 4.7092468e-01],\n",
       "          ...,\n",
       "          [7.0023525e-01, 5.6817341e-01, 4.7056884e-01],\n",
       "          [6.9008297e-01, 5.7029611e-01, 4.7453070e-01],\n",
       "          [6.6448945e-01, 5.5708545e-01, 4.6422112e-01]],\n",
       " \n",
       "         [[6.3222617e-01, 5.2905279e-01, 4.3902469e-01],\n",
       "          [5.9458554e-01, 4.9458566e-01, 3.9556599e-01],\n",
       "          [6.2827581e-01, 5.2540737e-01, 4.2728412e-01],\n",
       "          ...,\n",
       "          [6.8951797e-01, 5.5323642e-01, 4.6404180e-01],\n",
       "          [6.7763793e-01, 5.4471266e-01, 4.4126421e-01],\n",
       "          [6.6497314e-01, 5.2280504e-01, 4.1341740e-01]]],\n",
       " \n",
       " \n",
       "        [[[3.2002112e-01, 2.8213787e-01, 2.4425462e-01],\n",
       "          [3.2458416e-01, 2.8659755e-01, 2.4937052e-01],\n",
       "          [3.2773432e-01, 2.8770593e-01, 2.4986763e-01],\n",
       "          ...,\n",
       "          [4.2592806e-01, 3.4749669e-01, 3.1413698e-01],\n",
       "          [4.2831802e-01, 3.4988666e-01, 3.2100427e-01],\n",
       "          [4.2896914e-01, 3.5092625e-01, 3.2204387e-01]],\n",
       " \n",
       "         [[3.2318631e-01, 2.8784853e-01, 2.5251079e-01],\n",
       "          [3.2547501e-01, 2.9290575e-01, 2.5203878e-01],\n",
       "          [3.3763900e-01, 2.9400969e-01, 2.5580603e-01],\n",
       "          ...,\n",
       "          [4.3128097e-01, 3.5284957e-01, 3.1758818e-01],\n",
       "          [4.3214071e-01, 3.5370934e-01, 3.1852320e-01],\n",
       "          [4.3565923e-01, 3.5723445e-01, 3.2204828e-01]],\n",
       " \n",
       "         [[3.2502046e-01, 2.9164633e-01, 2.5133431e-01],\n",
       "          [3.2994887e-01, 2.9834539e-01, 2.5567001e-01],\n",
       "          [3.4207678e-01, 2.9836378e-01, 2.6016271e-01],\n",
       "          ...,\n",
       "          [4.3945166e-01, 3.5819536e-01, 3.2384285e-01],\n",
       "          [4.4327816e-01, 3.5753918e-01, 3.2468092e-01],\n",
       "          [4.4235641e-01, 3.6277783e-01, 3.2786614e-01]],\n",
       " \n",
       "         ...,\n",
       " \n",
       "         [[6.4488465e-01, 5.5975735e-01, 5.0447297e-01],\n",
       "          [6.4623517e-01, 5.6921124e-01, 5.1187342e-01],\n",
       "          [6.4192271e-01, 5.6956911e-01, 5.1372552e-01],\n",
       "          ...,\n",
       "          [4.8794466e-01, 3.8839167e-01, 3.2725251e-01],\n",
       "          [5.3056288e-01, 4.4223869e-01, 3.7403166e-01],\n",
       "          [5.3622997e-01, 4.5344561e-01, 3.8407525e-01]],\n",
       " \n",
       "         [[6.4213061e-01, 5.5585611e-01, 5.0100154e-01],\n",
       "          [6.4316833e-01, 5.6603014e-01, 5.1113969e-01],\n",
       "          [6.4319128e-01, 5.6851953e-01, 5.1365519e-01],\n",
       "          ...,\n",
       "          [4.6883577e-01, 3.6075240e-01, 3.0744883e-01],\n",
       "          [4.7076485e-01, 3.6780879e-01, 3.1720623e-01],\n",
       "          [4.4589087e-01, 3.3036608e-01, 2.8417048e-01]],\n",
       " \n",
       "         [[6.3936949e-01, 5.5309498e-01, 5.0101036e-01],\n",
       "          [6.4498746e-01, 5.6040603e-01, 5.0618196e-01],\n",
       "          [6.4634311e-01, 5.6221575e-01, 5.0955248e-01],\n",
       "          ...,\n",
       "          [4.2519772e-01, 2.4735497e-01, 2.0228347e-01],\n",
       "          [3.8092411e-01, 2.1986406e-01, 1.9132471e-01],\n",
       "          [3.2759482e-01, 1.6447669e-01, 1.3491328e-01]]],\n",
       " \n",
       " \n",
       "        ...,\n",
       " \n",
       " \n",
       "        [[[0.0000000e+00, 0.0000000e+00, 0.0000000e+00],\n",
       "          [0.0000000e+00, 0.0000000e+00, 0.0000000e+00],\n",
       "          [0.0000000e+00, 0.0000000e+00, 0.0000000e+00],\n",
       "          ...,\n",
       "          [7.8431377e-03, 7.8431377e-03, 7.8431377e-03],\n",
       "          [7.8431377e-03, 7.8431377e-03, 7.8431377e-03],\n",
       "          [7.8431377e-03, 7.8431377e-03, 7.8431377e-03]],\n",
       " \n",
       "         [[0.0000000e+00, 0.0000000e+00, 0.0000000e+00],\n",
       "          [0.0000000e+00, 0.0000000e+00, 0.0000000e+00],\n",
       "          [0.0000000e+00, 0.0000000e+00, 0.0000000e+00],\n",
       "          ...,\n",
       "          [7.8431377e-03, 7.8431377e-03, 7.8431377e-03],\n",
       "          [7.8431377e-03, 7.8431377e-03, 7.8431377e-03],\n",
       "          [7.8431377e-03, 7.8431377e-03, 7.8431377e-03]],\n",
       " \n",
       "         [[0.0000000e+00, 0.0000000e+00, 0.0000000e+00],\n",
       "          [0.0000000e+00, 0.0000000e+00, 0.0000000e+00],\n",
       "          [0.0000000e+00, 0.0000000e+00, 0.0000000e+00],\n",
       "          ...,\n",
       "          [7.8431377e-03, 7.8431377e-03, 7.8431377e-03],\n",
       "          [7.8431377e-03, 7.8431377e-03, 7.8431377e-03],\n",
       "          [7.8431377e-03, 7.8431377e-03, 7.8431377e-03]],\n",
       " \n",
       "         ...,\n",
       " \n",
       "         [[2.3529414e-02, 2.3529414e-02, 2.3529414e-02],\n",
       "          [2.3529414e-02, 2.3529414e-02, 2.3529414e-02],\n",
       "          [2.3529414e-02, 2.3529414e-02, 2.3529414e-02],\n",
       "          ...,\n",
       "          [6.3099625e-04, 6.3099625e-04, 6.3099625e-04],\n",
       "          [0.0000000e+00, 0.0000000e+00, 0.0000000e+00],\n",
       "          [0.0000000e+00, 0.0000000e+00, 0.0000000e+00]],\n",
       " \n",
       "         [[2.3529414e-02, 2.3529414e-02, 2.3529414e-02],\n",
       "          [2.3529414e-02, 2.3529414e-02, 2.3529414e-02],\n",
       "          [2.3529414e-02, 2.3529414e-02, 2.3529414e-02],\n",
       "          ...,\n",
       "          [6.0104131e-04, 6.0104131e-04, 6.0104131e-04],\n",
       "          [0.0000000e+00, 0.0000000e+00, 0.0000000e+00],\n",
       "          [0.0000000e+00, 0.0000000e+00, 0.0000000e+00]],\n",
       " \n",
       "         [[2.3529414e-02, 2.3529414e-02, 2.3529414e-02],\n",
       "          [2.3529414e-02, 2.3529414e-02, 2.3529414e-02],\n",
       "          [2.3529414e-02, 2.3529414e-02, 2.3529414e-02],\n",
       "          ...,\n",
       "          [5.7108642e-04, 5.7108642e-04, 5.7108642e-04],\n",
       "          [0.0000000e+00, 0.0000000e+00, 0.0000000e+00],\n",
       "          [0.0000000e+00, 0.0000000e+00, 0.0000000e+00]]],\n",
       " \n",
       " \n",
       "        [[[3.0899006e-01, 3.4820575e-01, 3.0506849e-01],\n",
       "          [3.2492733e-01, 3.6414301e-01, 3.2850131e-01],\n",
       "          [3.3602244e-01, 3.7523812e-01, 3.4257606e-01],\n",
       "          ...,\n",
       "          [2.1261039e-01, 1.7234987e-01, 2.2141270e-01],\n",
       "          [2.4486911e-01, 2.0234901e-01, 2.6648349e-01],\n",
       "          [2.8701204e-01, 2.4578695e-01, 3.1161031e-01]],\n",
       " \n",
       "         [[2.6905444e-01, 2.8947878e-01, 2.7884901e-01],\n",
       "          [2.9508293e-01, 3.1550726e-01, 3.0539069e-01],\n",
       "          [3.1907931e-01, 3.3950365e-01, 3.3790192e-01],\n",
       "          ...,\n",
       "          [2.3620191e-01, 1.9682540e-01, 2.4092755e-01],\n",
       "          [2.4125516e-01, 2.0264952e-01, 2.5157467e-01],\n",
       "          [2.7805126e-01, 2.5021613e-01, 3.0790865e-01]],\n",
       " \n",
       "         [[2.4421656e-01, 2.5764906e-01, 2.7426064e-01],\n",
       "          [2.7356321e-01, 2.7848145e-01, 2.9273832e-01],\n",
       "          [2.9796302e-01, 2.9978904e-01, 3.1539294e-01],\n",
       "          ...,\n",
       "          [2.3157446e-01, 2.0850798e-01, 2.3721273e-01],\n",
       "          [2.3519328e-01, 2.1986540e-01, 2.4835251e-01],\n",
       "          [2.7840230e-01, 2.5480559e-01, 2.9842067e-01]],\n",
       " \n",
       "         ...,\n",
       " \n",
       "         [[6.0604328e-01, 6.6203219e-01, 5.1594645e-01],\n",
       "          [6.1502117e-01, 6.6125429e-01, 5.1929355e-01],\n",
       "          [6.1852062e-01, 6.7137098e-01, 5.3675193e-01],\n",
       "          ...,\n",
       "          [6.1461914e-01, 6.3763624e-01, 5.4276979e-01],\n",
       "          [6.2145275e-01, 6.5470731e-01, 5.7504958e-01],\n",
       "          [6.2767285e-01, 6.7928904e-01, 6.0251629e-01]],\n",
       " \n",
       "         [[6.1326694e-01, 6.7360717e-01, 4.9798110e-01],\n",
       "          [6.1056209e-01, 6.7026359e-01, 5.0360012e-01],\n",
       "          [6.2394041e-01, 6.8105954e-01, 5.2800769e-01],\n",
       "          ...,\n",
       "          [6.2471402e-01, 6.6422021e-01, 5.7813311e-01],\n",
       "          [6.2485284e-01, 6.7512530e-01, 5.9240830e-01],\n",
       "          [6.0651332e-01, 6.6713285e-01, 5.7753921e-01]],\n",
       " \n",
       "         [[6.2152767e-01, 6.8710405e-01, 4.8782194e-01],\n",
       "          [6.1711413e-01, 6.7980981e-01, 4.9540702e-01],\n",
       "          [6.2321025e-01, 6.8586904e-01, 5.0121367e-01],\n",
       "          ...,\n",
       "          [6.3508910e-01, 6.8544948e-01, 5.9478402e-01],\n",
       "          [6.2858158e-01, 6.7936921e-01, 5.8379370e-01],\n",
       "          [6.2429917e-01, 6.7437822e-01, 5.9133375e-01]]],\n",
       " \n",
       " \n",
       "        [[[7.5686282e-01, 7.6078439e-01, 7.6862752e-01],\n",
       "          [7.5404805e-01, 7.5796962e-01, 7.6581275e-01],\n",
       "          [7.6684141e-01, 7.7076298e-01, 7.8134799e-01],\n",
       "          ...,\n",
       "          [7.8509426e-01, 7.8667438e-01, 7.9373711e-01],\n",
       "          [7.6258123e-01, 7.6650280e-01, 7.7434593e-01],\n",
       "          [7.6913553e-01, 7.7305710e-01, 7.8090024e-01]],\n",
       " \n",
       "         [[7.5686282e-01, 7.6078439e-01, 7.6862752e-01],\n",
       "          [7.5406677e-01, 7.5798833e-01, 7.6583147e-01],\n",
       "          [7.6671958e-01, 7.7064121e-01, 7.8120738e-01],\n",
       "          ...,\n",
       "          [7.8510356e-01, 7.8665566e-01, 7.9370898e-01],\n",
       "          [7.6264691e-01, 7.6656848e-01, 7.7441162e-01],\n",
       "          [7.6909798e-01, 7.7301955e-01, 7.8086269e-01]],\n",
       " \n",
       "         [[7.5686282e-01, 7.6078439e-01, 7.6862752e-01],\n",
       "          [7.5408548e-01, 7.5800711e-01, 7.6585025e-01],\n",
       "          [7.6659781e-01, 7.7051938e-01, 7.8106683e-01],\n",
       "          ...,\n",
       "          [7.8511298e-01, 7.8663695e-01, 7.9368085e-01],\n",
       "          [7.6271248e-01, 7.6663405e-01, 7.7447718e-01],\n",
       "          [7.6906055e-01, 7.7298212e-01, 7.8082526e-01]],\n",
       " \n",
       "         ...,\n",
       " \n",
       "         [[7.2547811e-01, 7.2547811e-01, 7.2722238e-01],\n",
       "          [6.7309529e-01, 6.7309529e-01, 6.7926705e-01],\n",
       "          [6.7036492e-01, 6.7036492e-01, 6.6876650e-01],\n",
       "          ...,\n",
       "          [4.7072321e-01, 4.5895851e-01, 4.2636868e-01],\n",
       "          [4.6160081e-01, 4.4983611e-01, 4.1454199e-01],\n",
       "          [4.6631297e-01, 4.5454827e-01, 4.1925415e-01]],\n",
       " \n",
       "         [[7.2564685e-01, 7.2564685e-01, 7.2737235e-01],\n",
       "          [6.7306715e-01, 6.7306715e-01, 6.7925775e-01],\n",
       "          [6.7050546e-01, 6.7050546e-01, 6.6892582e-01],\n",
       "          ...,\n",
       "          [4.7075129e-01, 4.5898658e-01, 4.2641553e-01],\n",
       "          [4.6161956e-01, 4.4985485e-01, 4.1456074e-01],\n",
       "          [4.6628487e-01, 4.5452017e-01, 4.1922605e-01]],\n",
       " \n",
       "         [[7.2581553e-01, 7.2581553e-01, 7.2752231e-01],\n",
       "          [6.7303908e-01, 6.7303908e-01, 6.7924833e-01],\n",
       "          [6.7064607e-01, 6.7064607e-01, 6.6908514e-01],\n",
       "          ...,\n",
       "          [4.7077942e-01, 4.5901471e-01, 4.2646241e-01],\n",
       "          [4.6163830e-01, 4.4987360e-01, 4.1457948e-01],\n",
       "          [4.6625677e-01, 4.5449206e-01, 4.1919795e-01]]]], dtype=float32),\n",
       " array([[0., 0., 1., 0.],\n",
       "        [0., 0., 1., 0.],\n",
       "        [1., 0., 0., 0.],\n",
       "        [0., 1., 0., 0.],\n",
       "        [0., 0., 1., 0.],\n",
       "        [1., 0., 0., 0.],\n",
       "        [0., 0., 1., 0.],\n",
       "        [0., 0., 0., 1.],\n",
       "        [1., 0., 0., 0.],\n",
       "        [0., 1., 0., 0.],\n",
       "        [0., 0., 1., 0.],\n",
       "        [1., 0., 0., 0.],\n",
       "        [1., 0., 0., 0.],\n",
       "        [0., 1., 0., 0.],\n",
       "        [0., 0., 1., 0.],\n",
       "        [1., 0., 0., 0.],\n",
       "        [0., 0., 0., 1.],\n",
       "        [0., 0., 0., 1.],\n",
       "        [1., 0., 0., 0.],\n",
       "        [0., 1., 0., 0.],\n",
       "        [0., 0., 0., 1.],\n",
       "        [0., 0., 0., 1.],\n",
       "        [0., 1., 0., 0.],\n",
       "        [1., 0., 0., 0.],\n",
       "        [0., 1., 0., 0.],\n",
       "        [0., 1., 0., 0.],\n",
       "        [0., 0., 0., 1.],\n",
       "        [1., 0., 0., 0.],\n",
       "        [0., 0., 1., 0.],\n",
       "        [0., 0., 1., 0.],\n",
       "        [0., 0., 0., 1.],\n",
       "        [1., 0., 0., 0.]], dtype=float32))"
      ]
     },
     "execution_count": 4,
     "metadata": {},
     "output_type": "execute_result"
    }
   ],
   "source": [
    "training_set[0]"
   ]
  },
  {
   "cell_type": "markdown",
   "metadata": {
    "id": "af8O4l90gk7B"
   },
   "source": [
    "## Part 2 - Building the CNN"
   ]
  },
  {
   "cell_type": "markdown",
   "metadata": {
    "id": "ces1gXY2lmoX"
   },
   "source": [
    "### Initialising the CNN"
   ]
  },
  {
   "cell_type": "code",
   "execution_count": 120,
   "metadata": {
    "id": "SAUt4UMPlhLS"
   },
   "outputs": [],
   "source": [
    "cnn = tf.keras.models.Sequential()"
   ]
  },
  {
   "cell_type": "markdown",
   "metadata": {
    "id": "u5YJj_XMl5LF"
   },
   "source": [
    "### Step 1 - Convolution"
   ]
  },
  {
   "cell_type": "code",
   "execution_count": 121,
   "metadata": {
    "id": "XPzPrMckl-hV"
   },
   "outputs": [],
   "source": [
    "cnn.add(tf.keras.layers.Conv2D(filters=32, kernel_size=3, activation='relu', input_shape=[64, 64, 3]))"
   ]
  },
  {
   "cell_type": "markdown",
   "metadata": {
    "id": "tf87FpvxmNOJ"
   },
   "source": [
    "### Step 2 - Pooling"
   ]
  },
  {
   "cell_type": "code",
   "execution_count": 122,
   "metadata": {
    "id": "ncpqPl69mOac"
   },
   "outputs": [],
   "source": [
    "cnn.add(tf.keras.layers.MaxPool2D(pool_size=2, strides=2))"
   ]
  },
  {
   "cell_type": "markdown",
   "metadata": {
    "id": "xaTOgD8rm4mU"
   },
   "source": [
    "### Adding a second convolutional layer"
   ]
  },
  {
   "cell_type": "code",
   "execution_count": 123,
   "metadata": {
    "id": "i_-FZjn_m8gk"
   },
   "outputs": [],
   "source": [
    "cnn.add(tf.keras.layers.Conv2D(filters=32, kernel_size=3, activation='relu'))\n",
    "cnn.add(tf.keras.layers.MaxPool2D(pool_size=2, strides=2))"
   ]
  },
  {
   "cell_type": "markdown",
   "metadata": {
    "id": "tmiEuvTunKfk"
   },
   "source": [
    "### Step 3 - Flattening"
   ]
  },
  {
   "cell_type": "code",
   "execution_count": 124,
   "metadata": {
    "id": "6AZeOGCvnNZn"
   },
   "outputs": [],
   "source": [
    "cnn.add(tf.keras.layers.Flatten())"
   ]
  },
  {
   "cell_type": "markdown",
   "metadata": {
    "id": "dAoSECOm203v"
   },
   "source": [
    "### Step 4 - Full Connection"
   ]
  },
  {
   "cell_type": "code",
   "execution_count": 125,
   "metadata": {
    "id": "8GtmUlLd26Nq"
   },
   "outputs": [],
   "source": [
    "cnn.add(tf.keras.layers.Dense(units=128, activation='relu'))"
   ]
  },
  {
   "cell_type": "markdown",
   "metadata": {
    "id": "yTldFvbX28Na"
   },
   "source": [
    "### Step 5 - Output Layer"
   ]
  },
  {
   "cell_type": "code",
   "execution_count": 126,
   "metadata": {
    "id": "1p_Zj1Mc3Ko_"
   },
   "outputs": [],
   "source": [
    "cnn.add(tf.keras.layers.Dense(units=4, activation='softmax'))"
   ]
  },
  {
   "cell_type": "markdown",
   "metadata": {
    "id": "D6XkI90snSDl"
   },
   "source": [
    "## Part 3 - Training the CNN"
   ]
  },
  {
   "cell_type": "markdown",
   "metadata": {
    "id": "vfrFQACEnc6i"
   },
   "source": [
    "### Compiling the CNN"
   ]
  },
  {
   "cell_type": "code",
   "execution_count": 127,
   "metadata": {
    "id": "NALksrNQpUlJ"
   },
   "outputs": [],
   "source": [
    "cnn.compile(optimizer = 'adam', loss = 'categorical_crossentropy', metrics = ['accuracy'])"
   ]
  },
  {
   "cell_type": "markdown",
   "metadata": {
    "id": "ehS-v3MIpX2h"
   },
   "source": [
    "### Training the CNN on the Training set and evaluating it on the Test set"
   ]
  },
  {
   "cell_type": "code",
   "execution_count": 128,
   "metadata": {
    "id": "XUj1W4PJptta"
   },
   "outputs": [
    {
     "name": "stdout",
     "output_type": "stream",
     "text": [
      "Epoch 1/45\n",
      "50/50 [==============================] - 33s 649ms/step - loss: 1.3303 - accuracy: 0.3446 - val_loss: 1.2749 - val_accuracy: 0.3875\n",
      "Epoch 2/45\n",
      "50/50 [==============================] - 32s 640ms/step - loss: 1.2546 - accuracy: 0.4034 - val_loss: 1.3073 - val_accuracy: 0.4425\n",
      "Epoch 3/45\n",
      "50/50 [==============================] - 32s 640ms/step - loss: 1.1731 - accuracy: 0.4941 - val_loss: 1.2131 - val_accuracy: 0.4800\n",
      "Epoch 4/45\n",
      "50/50 [==============================] - 32s 645ms/step - loss: 1.1110 - accuracy: 0.5203 - val_loss: 1.1692 - val_accuracy: 0.5175\n",
      "Epoch 5/45\n",
      "50/50 [==============================] - 32s 646ms/step - loss: 1.0489 - accuracy: 0.5585 - val_loss: 1.1915 - val_accuracy: 0.5350\n",
      "Epoch 6/45\n",
      "50/50 [==============================] - 32s 650ms/step - loss: 1.0090 - accuracy: 0.5854 - val_loss: 1.3140 - val_accuracy: 0.5200\n",
      "Epoch 7/45\n",
      "50/50 [==============================] - 32s 635ms/step - loss: 0.9436 - accuracy: 0.6141 - val_loss: 1.1572 - val_accuracy: 0.5450\n",
      "Epoch 8/45\n",
      "50/50 [==============================] - 32s 645ms/step - loss: 0.9411 - accuracy: 0.6091 - val_loss: 1.0934 - val_accuracy: 0.5875\n",
      "Epoch 9/45\n",
      "50/50 [==============================] - 32s 644ms/step - loss: 0.8652 - accuracy: 0.6542 - val_loss: 1.1302 - val_accuracy: 0.5825\n",
      "Epoch 10/45\n",
      "50/50 [==============================] - 32s 647ms/step - loss: 0.8207 - accuracy: 0.6879 - val_loss: 1.0861 - val_accuracy: 0.5875\n",
      "Epoch 11/45\n",
      "50/50 [==============================] - 32s 646ms/step - loss: 0.7867 - accuracy: 0.6923 - val_loss: 1.1145 - val_accuracy: 0.6200\n",
      "Epoch 12/45\n",
      "50/50 [==============================] - 32s 645ms/step - loss: 0.7789 - accuracy: 0.6973 - val_loss: 1.1063 - val_accuracy: 0.6200\n",
      "Epoch 13/45\n",
      "50/50 [==============================] - 32s 648ms/step - loss: 0.7205 - accuracy: 0.7211 - val_loss: 1.1282 - val_accuracy: 0.6325\n",
      "Epoch 14/45\n",
      "50/50 [==============================] - 32s 633ms/step - loss: 0.6816 - accuracy: 0.7436 - val_loss: 1.2036 - val_accuracy: 0.6250\n",
      "Epoch 15/45\n",
      "50/50 [==============================] - 32s 640ms/step - loss: 0.6291 - accuracy: 0.7573 - val_loss: 1.2405 - val_accuracy: 0.6225\n",
      "Epoch 16/45\n",
      "50/50 [==============================] - 32s 637ms/step - loss: 0.6036 - accuracy: 0.7667 - val_loss: 1.2317 - val_accuracy: 0.6100\n",
      "Epoch 17/45\n",
      "50/50 [==============================] - 32s 634ms/step - loss: 0.5745 - accuracy: 0.7755 - val_loss: 1.3518 - val_accuracy: 0.5800\n",
      "Epoch 18/45\n",
      "50/50 [==============================] - 32s 646ms/step - loss: 0.5934 - accuracy: 0.7711 - val_loss: 1.2477 - val_accuracy: 0.6100\n",
      "Epoch 19/45\n",
      "50/50 [==============================] - 32s 640ms/step - loss: 0.5397 - accuracy: 0.7899 - val_loss: 1.2825 - val_accuracy: 0.6200\n",
      "Epoch 20/45\n",
      "50/50 [==============================] - 32s 649ms/step - loss: 0.4866 - accuracy: 0.8149 - val_loss: 1.2032 - val_accuracy: 0.6575\n",
      "Epoch 21/45\n",
      "50/50 [==============================] - 32s 632ms/step - loss: 0.4987 - accuracy: 0.8093 - val_loss: 1.2044 - val_accuracy: 0.6375\n",
      "Epoch 22/45\n",
      "50/50 [==============================] - 32s 647ms/step - loss: 0.4282 - accuracy: 0.8374 - val_loss: 1.2752 - val_accuracy: 0.6375\n",
      "Epoch 23/45\n",
      "50/50 [==============================] - 32s 639ms/step - loss: 0.4245 - accuracy: 0.8355 - val_loss: 1.4139 - val_accuracy: 0.6100\n",
      "Epoch 24/45\n",
      "50/50 [==============================] - 32s 645ms/step - loss: 0.3946 - accuracy: 0.8505 - val_loss: 1.3928 - val_accuracy: 0.6425\n",
      "Epoch 25/45\n",
      "50/50 [==============================] - 32s 650ms/step - loss: 0.3871 - accuracy: 0.8568 - val_loss: 1.3774 - val_accuracy: 0.6175\n",
      "Epoch 26/45\n",
      "50/50 [==============================] - 32s 639ms/step - loss: 0.3390 - accuracy: 0.8749 - val_loss: 1.4065 - val_accuracy: 0.6600\n",
      "Epoch 27/45\n",
      "50/50 [==============================] - 32s 646ms/step - loss: 0.3170 - accuracy: 0.8881 - val_loss: 1.4749 - val_accuracy: 0.6650\n",
      "Epoch 28/45\n",
      "50/50 [==============================] - 32s 648ms/step - loss: 0.2996 - accuracy: 0.8912 - val_loss: 1.5206 - val_accuracy: 0.6350\n",
      "Epoch 29/45\n",
      "50/50 [==============================] - 32s 650ms/step - loss: 0.2868 - accuracy: 0.8874 - val_loss: 1.5175 - val_accuracy: 0.6275\n",
      "Epoch 30/45\n",
      "50/50 [==============================] - 32s 654ms/step - loss: 0.2768 - accuracy: 0.8993 - val_loss: 1.5941 - val_accuracy: 0.6250\n",
      "Epoch 31/45\n",
      "50/50 [==============================] - 32s 644ms/step - loss: 0.2959 - accuracy: 0.8956 - val_loss: 1.5002 - val_accuracy: 0.6300\n",
      "Epoch 32/45\n",
      "50/50 [==============================] - 32s 646ms/step - loss: 0.2465 - accuracy: 0.9093 - val_loss: 1.6849 - val_accuracy: 0.6350\n",
      "Epoch 33/45\n",
      "50/50 [==============================] - 33s 663ms/step - loss: 0.2700 - accuracy: 0.9006 - val_loss: 1.6048 - val_accuracy: 0.6500\n",
      "Epoch 34/45\n",
      "50/50 [==============================] - 32s 650ms/step - loss: 0.2254 - accuracy: 0.9212 - val_loss: 1.7116 - val_accuracy: 0.6250\n",
      "Epoch 35/45\n",
      "50/50 [==============================] - 32s 646ms/step - loss: 0.1927 - accuracy: 0.9268 - val_loss: 1.7194 - val_accuracy: 0.6425\n",
      "Epoch 36/45\n",
      "50/50 [==============================] - 32s 641ms/step - loss: 0.1767 - accuracy: 0.9412 - val_loss: 1.7357 - val_accuracy: 0.6250\n",
      "Epoch 37/45\n",
      "50/50 [==============================] - 32s 648ms/step - loss: 0.1843 - accuracy: 0.9356 - val_loss: 1.6881 - val_accuracy: 0.6425\n",
      "Epoch 38/45\n",
      "50/50 [==============================] - 32s 638ms/step - loss: 0.1983 - accuracy: 0.9331 - val_loss: 1.8054 - val_accuracy: 0.6300\n",
      "Epoch 39/45\n",
      "50/50 [==============================] - 32s 646ms/step - loss: 0.1833 - accuracy: 0.9393 - val_loss: 1.8189 - val_accuracy: 0.6275\n",
      "Epoch 40/45\n",
      "50/50 [==============================] - 32s 646ms/step - loss: 0.1860 - accuracy: 0.9393 - val_loss: 1.8210 - val_accuracy: 0.6250\n",
      "Epoch 41/45\n",
      "50/50 [==============================] - 32s 643ms/step - loss: 0.1446 - accuracy: 0.9556 - val_loss: 2.0928 - val_accuracy: 0.6400\n",
      "Epoch 42/45\n",
      "50/50 [==============================] - 32s 643ms/step - loss: 0.1685 - accuracy: 0.9368 - val_loss: 1.8322 - val_accuracy: 0.6400\n",
      "Epoch 43/45\n",
      "50/50 [==============================] - 32s 651ms/step - loss: 0.1532 - accuracy: 0.9475 - val_loss: 2.0265 - val_accuracy: 0.6200\n",
      "Epoch 44/45\n",
      "50/50 [==============================] - 32s 639ms/step - loss: 0.2099 - accuracy: 0.9293 - val_loss: 1.6552 - val_accuracy: 0.6425\n",
      "Epoch 45/45\n",
      "50/50 [==============================] - 32s 645ms/step - loss: 0.1527 - accuracy: 0.9531 - val_loss: 1.8073 - val_accuracy: 0.6350\n"
     ]
    },
    {
     "data": {
      "text/plain": [
       "<keras.callbacks.History at 0x192c6094a30>"
      ]
     },
     "execution_count": 128,
     "metadata": {},
     "output_type": "execute_result"
    }
   ],
   "source": [
    "cnn.fit(x = training_set, validation_data = test_set, epochs = 45)"
   ]
  },
  {
   "cell_type": "code",
   "execution_count": 15,
   "metadata": {},
   "outputs": [
    {
     "name": "stdout",
     "output_type": "stream",
     "text": [
      "13/13 [==============================] - 7s 462ms/step - loss: 1.4767 - accuracy: 0.6350\n"
     ]
    },
    {
     "data": {
      "text/plain": [
       "[1.476702094078064, 0.6349999904632568]"
      ]
     },
     "execution_count": 15,
     "metadata": {},
     "output_type": "execute_result"
    }
   ],
   "source": [
    "cnn.evaluate(test_set)"
   ]
  },
  {
   "cell_type": "markdown",
   "metadata": {
    "id": "U3PZasO0006Z"
   },
   "source": [
    "## Part 4 - Making a single prediction"
   ]
  },
  {
   "cell_type": "code",
   "execution_count": 147,
   "metadata": {},
   "outputs": [
    {
     "name": "stdout",
     "output_type": "stream",
     "text": [
      "1/1 [==============================] - 0s 14ms/step\n"
     ]
    },
    {
     "data": {
      "image/png": "[encoded data removed]",
      "text/plain": [
       "<Figure size 300x300 with 1 Axes>"
      ]
     },
     "metadata": {},
     "output_type": "display_data"
    },
    {
     "name": "stdout",
     "output_type": "stream",
     "text": [
      "The predicted category is: spider\n"
     ]
    }
   ],
   "source": [
    "# Categories corresponding to the class labels\n",
    "categories = ['ant', 'bee', 'cockroach', 'spider']\n",
    "\n",
    "# Function to load a random image from the test set\n",
    "def load_random_image(test_image_directory):\n",
    "    # Randomly pick a category folder (ant, bee, cockroach, spider)\n",
    "    random_class = random.choice(os.listdir(test_image_directory))\n",
    "    random_image_folder = os.path.join(test_image_directory, random_class)\n",
    "    \n",
    "    # Randomly pick an image from the selected category\n",
    "    random_image_filename = random.choice(os.listdir(random_image_folder))\n",
    "    random_image_path = os.path.join(random_image_folder, random_image_filename)\n",
    "    \n",
    "    # Load and preprocess the image\n",
    "    test_image = image.load_img(random_image_path, target_size=(64, 64))\n",
    "    test_image_array = image.img_to_array(test_image)\n",
    "    test_image_array = np.expand_dims(test_image_array, axis=0)  # Add batch dimension\n",
    "    test_image_array = test_image_array / 255.0  # Normalize pixel values\n",
    "\n",
    "    return test_image_array, random_image_path  # Return image array and path to display\n",
    "\n",
    "# Set directory for test images\n",
    "test_image_directory = 'dataset/test_set'\n",
    "\n",
    "# Load a random image from the test set\n",
    "test_image_array, random_image_path = load_random_image(test_image_directory)\n",
    "\n",
    "# Make prediction\n",
    "result = cnn.predict(test_image_array)\n",
    "\n",
    "# Find the index of the class with the highest probability\n",
    "predicted_class_index = np.argmax(result, axis=1)[0]\n",
    "\n",
    "# Get the corresponding category label\n",
    "predicted_category = categories[predicted_class_index]\n",
    "\n",
    "# Display the image\n",
    "plt.figure(figsize=(3, 3))  # Set the figure size (width, height)\n",
    "img = image.load_img(random_image_path)\n",
    "plt.imshow(img)\n",
    "plt.axis('off')  # Turn off axis labels\n",
    "plt.show()\n",
    "\n",
    "# Print the predicted category\n",
    "print(f\"The predicted category is: {predicted_category}\")\n"
   ]
  },
  {
   "cell_type": "code",
   "execution_count": 30,
   "metadata": {
    "id": "ED9KB3I54c1i"
   },
   "outputs": [
    {
     "name": "stdout",
     "output_type": "stream",
     "text": [
      "dog\n"
     ]
    }
   ],
   "source": [
    "# Plotting Training & Validation Loss\n",
    "plt.figure(figsize=(10, 5))\n",
    "plt.subplot(1, 2, 1)\n",
    "plt.plot(history.history['loss'], label='Training Loss')\n",
    "plt.plot(history.history['val_loss'], label='Validation Loss')\n",
    "plt.title('Loss vs Epochs')\n",
    "plt.xlabel('Epochs')\n",
    "plt.ylabel('Loss')\n",
    "plt.legend()"
   ]
  },
  {
   "cell_type": "code",
   "execution_count": null,
   "metadata": {},
   "outputs": [],
   "source": []
  }
 ],
 "metadata": {
  "colab": {
   "authorship_tag": "ABX9TyN2fBThgo8wJQn6Xf6V6crC",
   "provenance": [],
   "toc_visible": true
  },
  "kernelspec": {
   "display_name": "Python 3 (ipykernel)",
   "language": "python",
   "name": "python3"
  },
  "language_info": {
   "codemirror_mode": {
    "name": "ipython",
    "version": 3
   },
   "file_extension": ".py",
   "mimetype": "text/x-python",
   "name": "python",
   "nbconvert_exporter": "python",
   "pygments_lexer": "ipython3",
   "version": "3.9.18"
  }
 },
 "nbformat": 4,
 "nbformat_minor": 4
}
